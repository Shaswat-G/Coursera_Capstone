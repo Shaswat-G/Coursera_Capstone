{
 "cells": [
  {
   "cell_type": "markdown",
   "metadata": {},
   "source": [
    "# Introduction\n",
    "## Problem Statement\n",
    "You are a performing arts organizing agency whose mainstream source of revenue is organizing sensational events/gigs for public entertainment from conception to execution. You aim to organize hundreds of events both highly frequent small scale ones and occasional large scale ones. You work with all kinds of performance artists like actors, comedians, dancers, magicians, circus artists, musicians, and singers, songwriters, choreographers, and so on.\n",
    "<br>\n",
    "One of the major decisions that have to be made is the selection of an appropriate venue for a performance. For this, the agency needs not only a holistic list of venues in an area but also to group it with tags like nightlife, small scale, relevant performance art that can be performed here, etc. So that an optimal decision can be arrived at.\n",
    "<br>\n",
    "Once the database for the area of interest is built, a simple K-means clustering would reveal the best zones for further classification and analysis.\n",
    "\n",
    "<h2>Target audience and Utility</h2>\n",
    "    \n",
    "The database once built and analyzed would be of tremendous utility to all companies/agencies involved in any subdomain of the performing arts ecosystem. A few scenarios would help in grasping of the underlying value of this project:\n",
    "<ol>\n",
    "<li>An individual comic/ group of comics scouting for popular locations to perform and showcase their gigs throughout a particular city/area.</li>\n",
    "<li>Musical Bands/ individual performers looking for crowded venues and popular locations to perform frequently to increase ticket sales.</li>\n",
    "<li>Play actors/ dance performers and a host of other performing artists aiming to maximize the reach, popularity, and ticket sales for their art.</li>\n",
    "<li>Supporting staff like choreographers, songwriters, scriptwriters, cameramen, etc looking for employment opportunities.</li>\n",
    "<li>Not only the supply side but the demand side too, for instance, art enthusiasts and staple audiences of each of the above-mentioned arts can benefit too. </li></ol>\n",
    "\n",
    "\n"
   ]
  },
  {
   "cell_type": "markdown",
   "metadata": {},
   "source": [
    "\n",
    "\n",
    "# Data section :\n",
    "## Dataset fabrication:\n",
    "The aim is to construct a comprehensive, all-encompassing database of venues, complete with useful labels like enabled night shows, the scale of the event that can be hosted, etc.\n",
    "\n",
    "To construct such a dataset, one would have to partition the geographical area of interest into non-overlapping subsets of the critical size (see next para). The query will be run on the center of the geographical confine and relevant properties of the results will be used to populate a conspicuous, intuitive dataset for further use.\n",
    "\n",
    "The foursquare API for venue search has a cap of 30 results for a given query, implying that all the popular performing arts venues might not be revealed if the area size exceeds a critical size (at which any further decrement in size would decrease the query results to below 30).\n",
    "2.2. Area of Interest and Description:\n",
    "For this project, we would be looking at the very heart of the culture-rich city of Milan. \n",
    "Milan is the capital of Lombardia, along with being the richest and most populous region of Italy, it is the second-largest in the country, and is best known as an economic and financial center but it also has its fair share of cultural and architectural attractions.\n",
    "\n",
    "Zone 1 of Milan city comprises within it, districts of Brera and Porta Sempione, which bubble with its richness of Art and Nightlife.\n",
    "\n",
    "Brera houses the Brera Academy of Fine Arts and the Brera Art Gallery, which prominently contributed to the development of Brera as an artists' neighborhood and a place of bohemian atmosphere, sometimes referred to as \"the Milanese Montmartre\".\n",
    "Other features that contribute to the character of Brera include restaurants, bars, night clubs, antique and art shops, colorful street markets, as well as fortune tellers' booths.\n",
    "\n",
    "The whole area is one of the centers of the so-called Milanese Movida (nightlife), with a number of bars, pubs, restaurants, and discos; since the RAI public television company, as well as some major radio stations, have their headquarters in the area, frequent appearances of celebrities contribute to the popularity of the Sempione's nightlife venues.\n"
   ]
  },
  {
   "cell_type": "markdown",
   "metadata": {},
   "source": [
    "## Import relevant packages"
   ]
  },
  {
   "cell_type": "code",
   "execution_count": 79,
   "metadata": {},
   "outputs": [],
   "source": [
    "#--- general data processing and visualzation ---\n",
    "import numpy as np\n",
    "import pandas as pd\n",
    "import math\n",
    "import matplotlib.pyplot as plt\n",
    "\n",
    "#--- to handle url requests for making API calls ---\n",
    "import requests\n",
    "\n",
    "#-- to transform spherical coordinates to cartesian and vice versa ---\n",
    "import pyproj\n",
    "\n",
    "#--- to normalize json type string to dataframe ---\n",
    "from pandas.io.json import json_normalize"
   ]
  },
  {
   "cell_type": "markdown",
   "metadata": {},
   "source": [
    "## The make grid function\n",
    "Given a radius of a circle and a side length value, the function generates a grid of sqaure cells of that side. The function plots it using Matplotlib to make it visually tangible. "
   ]
  },
  {
   "cell_type": "code",
   "execution_count": 2,
   "metadata": {},
   "outputs": [],
   "source": [
    "def make_grid(R,s):\n",
    "    #--- parameters ---\n",
    "    center_x = R\n",
    "    center_y = R\n",
    "    side  = 2*R\n",
    "    r = s/2\n",
    "    \n",
    "    diag_x = center_x - R\n",
    "    diag_y = center_y - R\n",
    "    root_3 = math.sqrt(3)\n",
    "    \n",
    "    def check_circle(x,y):\n",
    "        val = math.sqrt(pow((center_x-x),2)+pow((center_y-y),2)) - R\n",
    "        if(val>0):\n",
    "            return False\n",
    "        else:\n",
    "            return True\n",
    "    \n",
    "\n",
    "    #--- Figure properties ---\n",
    "    fig, ax = plt.subplots(figsize = (10,10))\n",
    "    plt.xlim(diag_x-5,diag_x+side+5)\n",
    "    plt.ylim(diag_y-5,diag_y+side+5)\n",
    "    plt.grid(linestyle='--')\n",
    "    ax.set_aspect(1)\n",
    "\n",
    "    #--- main outer square ---\n",
    "    x1, y1 = [diag_x,diag_x+side], [diag_y,diag_y]\n",
    "    x2, y2 = [diag_x+side,diag_x+side], [diag_y,diag_y+side]\n",
    "    x3, y3 = [diag_x+side,diag_x], [diag_y+side,diag_y+side]\n",
    "    x4, y4 = [diag_x,diag_x], [diag_y+side,diag_y]\n",
    "    square = plt.plot(x1, y1, x2, y2, x3, y3, x4, y4, marker = 'o')\n",
    "    map(ax.add_artist,square)\n",
    "\n",
    "    #--- main circle ---\n",
    "    main_circle = plt.Circle((center_x,center_y),R, color = 'gold', alpha = 0.6)\n",
    "    ax.add_artist(main_circle)\n",
    "\n",
    "    #--- intermediate circle centers of readius r---\n",
    "    x_coords = np.arange(diag_x+r,diag_x+side+r,2*r)\n",
    "    y_coords = np.arange(diag_y+r,diag_y+side+r,2*r)\n",
    "\n",
    "    for X in x_coords:\n",
    "        for Y in y_coords:\n",
    "            if (check_circle(X,Y)):\n",
    "                x = X - r\n",
    "                y = Y - r\n",
    "                x1, y1 = [x,x+s], [y,y]\n",
    "                x2, y2 = [x+s,x+s], [y,y+s]\n",
    "                x3, y3 = [x+s,x], [y+s,y+s]\n",
    "                x4, y4 = [x,x], [y+s,y]\n",
    "                square = plt.plot(x1, y1, x2, y2, x3, y3, x4, y4)\n",
    "                map(ax.add_artist,square)\n",
    "            else:\n",
    "                pass"
   ]
  },
  {
   "cell_type": "code",
   "execution_count": 3,
   "metadata": {},
   "outputs": [
    {
     "data": {
      "image/png": "[encoded data removed]",
      "text/plain": [
       "<Figure size 720x720 with 1 Axes>"
      ]
     },
     "metadata": {
      "needs_background": "light"
     },
     "output_type": "display_data"
    }
   ],
   "source": [
    "make_grid(12,2)"
   ]
  },
  {
   "cell_type": "markdown",
   "metadata": {},
   "source": [
    "## Transformation Functions\n",
    "These functions will be used to convert coordinates of a point in one coordinate system to other and vice versa. Here, the 2 coordinate systems are Spherical system [lat,lng] and the Cartesian Coordinate system, [x,y]"
   ]
  },
  {
   "cell_type": "code",
   "execution_count": 67,
   "metadata": {},
   "outputs": [],
   "source": [
    "def lonlat_to_xy(lon, lat):\n",
    "    proj_latlon = pyproj.Proj(proj='latlong',datum='WGS84')\n",
    "    proj_xy = pyproj.Proj(proj=\"utm\", zone=32, datum='WGS84')\n",
    "    xy = pyproj.transform(proj_latlon, proj_xy, lon, lat)\n",
    "    return xy[0], xy[1]\n",
    "\n",
    "def xy_to_lonlat(x, y):\n",
    "    proj_latlon = pyproj.Proj(proj='latlong',datum='WGS84')\n",
    "    proj_xy = pyproj.Proj(proj=\"utm\", zone=32, datum='WGS84')\n",
    "    lonlat = pyproj.transform(proj_xy, proj_latlon, x, y)\n",
    "    return lonlat[0], lonlat[1]\n",
    "\n",
    "def calc_xy_distance(x1, y1, x2, y2):\n",
    "    dx = x2 - x1\n",
    "    dy = y2 - y1\n",
    "    return math.sqrt(dx*dx + dy*dy)\n",
    "\n",
    "#--- this funciton is a part of 'venues_to_df()' function defined here just for the sake of defining. To be used later ----\n",
    "def get_category_type(row):\n",
    "    try:\n",
    "        categories_list = row['categories']\n",
    "    except:\n",
    "        categories_list = row['venue.categories']\n",
    "        \n",
    "    if len(categories_list) == 0:\n",
    "        return None\n",
    "    else:\n",
    "        return categories_list[0]['name']"
   ]
  },
  {
   "cell_type": "markdown",
   "metadata": {},
   "source": [
    "## Testing the transformations\n",
    "To test whether the transformation functions are working as intended, a set of boundary points on the boundary of zone 1 of Milan are selected and plotted in the Cartesian Coordinates and then compared. (see report)"
   ]
  },
  {
   "cell_type": "code",
   "execution_count": 6,
   "metadata": {},
   "outputs": [
    {
     "name": "stderr",
     "output_type": "stream",
     "text": [
      "C:\\Users\\Shaswat G\\anaconda3\\lib\\site-packages\\ipykernel_launcher.py:4: DeprecationWarning: This function is deprecated. See: https://pyproj4.github.io/pyproj/stable/gotchas.html#upgrading-to-pyproj-2-from-pyproj-1\n",
      "  after removing the cwd from sys.path.\n",
      "C:\\Users\\Shaswat G\\anaconda3\\lib\\site-packages\\ipykernel_launcher.py:4: DeprecationWarning: This function is deprecated. See: https://pyproj4.github.io/pyproj/stable/gotchas.html#upgrading-to-pyproj-2-from-pyproj-1\n",
      "  after removing the cwd from sys.path.\n",
      "C:\\Users\\Shaswat G\\anaconda3\\lib\\site-packages\\ipykernel_launcher.py:4: DeprecationWarning: This function is deprecated. See: https://pyproj4.github.io/pyproj/stable/gotchas.html#upgrading-to-pyproj-2-from-pyproj-1\n",
      "  after removing the cwd from sys.path.\n",
      "C:\\Users\\Shaswat G\\anaconda3\\lib\\site-packages\\ipykernel_launcher.py:4: DeprecationWarning: This function is deprecated. See: https://pyproj4.github.io/pyproj/stable/gotchas.html#upgrading-to-pyproj-2-from-pyproj-1\n",
      "  after removing the cwd from sys.path.\n",
      "C:\\Users\\Shaswat G\\anaconda3\\lib\\site-packages\\ipykernel_launcher.py:4: DeprecationWarning: This function is deprecated. See: https://pyproj4.github.io/pyproj/stable/gotchas.html#upgrading-to-pyproj-2-from-pyproj-1\n",
      "  after removing the cwd from sys.path.\n"
     ]
    },
    {
     "data": {
      "text/plain": [
       "<matplotlib.collections.PathCollection at 0x1f74ec7a148>"
      ]
     },
     "execution_count": 6,
     "metadata": {},
     "output_type": "execute_result"
    },
    {
     "data": {
      "image/png": "[encoded data removed]",
      "text/plain": [
       "<Figure size 720x720 with 1 Axes>"
      ]
     },
     "metadata": {
      "needs_background": "light"
     },
     "output_type": "display_data"
    }
   ],
   "source": [
    "bound = [[45.49691, 9.16495],[45.48368, 9.14504],[45.44696, 9.16169],[45.44828, 9.20976],[45.48512, 9.21559]]\n",
    "center = [45.46822, 9.18228]\n",
    "\n",
    "X = []\n",
    "Y = []\n",
    "\n",
    "for p in bound:\n",
    "    x,y = lonlat_to_xy(p[1],p[0])\n",
    "    X.append(x)\n",
    "    Y.append(y)\n",
    "    \n",
    "x_1= 514248.9621533059 \n",
    "y_1 = 5034982.006261798\n",
    "\n",
    "fig, ax = plt.subplots(figsize = (10,10))\n",
    "plt.xlim(x_1-4000,x_1+4000)\n",
    "plt.ylim(y_1-4000,y_1+4000)\n",
    "plt.grid(linestyle='--')\n",
    "ax.set_aspect(1)\n",
    "\n",
    "x1, y1 = [X[0],X[1]],[Y[0],Y[1]]\n",
    "x2, y2 = [X[1],X[2]],[Y[1],Y[2]]\n",
    "x3, y3 = [X[2],X[3]],[Y[2],Y[3]]\n",
    "x4, y4 = [X[3],X[4]],[Y[3],Y[4]]\n",
    "x5, y5 = [X[4],X[0]],[Y[4],Y[0]]\n",
    "\n",
    "square = plt.plot(x1,y1,x2,y2,x3,y3,x4,y4,x5,y5, marker = 'o')\n",
    "map(ax.add_artist,square)\n",
    "\n",
    "plt.scatter([x_1],[y_1])"
   ]
  },
  {
   "cell_type": "markdown",
   "metadata": {},
   "source": [
    "## Constructing the required URL for API calls\n",
    "The category of venues to be included in the API call, were decided on the basis of the list of categories available with the documentation of the venues search API. The categories are provided as a list of comma separated category IDs.\n",
    "\n",
    "### Relevant Location types:\n",
    "1. Amphitheater\n",
    "56aa371be4b08b9a8d5734db\n",
    "\n",
    "2. Comedy Club\n",
    "4bf58dd8d48988d18e941735\n",
    "\n",
    "3. Concert Hall\n",
    "5032792091d4c4b30a586d5c\n",
    "\n",
    "4. General Entertainment\n",
    "4bf58dd8d48988d1f1931735\n",
    "\n",
    "5. Opera House\n",
    "4bf58dd8d48988d136941735\n",
    "\n",
    "6. Theater\n",
    "4bf58dd8d48988d137941735\n",
    "\n",
    "7. Lounge\n",
    "4bf58dd8d48988d121941735\n",
    "\n",
    "8. Nightclub\n",
    "4bf58dd8d48988d11f941735\n",
    "\n",
    "9. Music Venue\n",
    "4bf58dd8d48988d1e5931735\n"
   ]
  },
  {
   "cell_type": "code",
   "execution_count": 148,
   "metadata": {},
   "outputs": [
    {
     "name": "stdout",
     "output_type": "stream",
     "text": [
      "Your credentails:\n",
      "CLIENT_ID: CQTF5U0CCI2SPBLT5N3TO2HYTFJFA0UOL2SNNXW2SVCDZXMK\n",
      "CLIENT_SECRET:FPQAH1O2DPPX0LA4A01GS5DGWHZAL1L4KHVKAZ3M3XJQBEGM\n",
      "CSV_CATEGS :4bf58dd8d48988d136941735,4bf58dd8d48988d1f1931735,5032792091d4c4b30a586d5c,4bf58dd8d48988d18e941735,56aa371be4b08b9a8d5734db,4bf58dd8d48988d1e5931735,4bf58dd8d48988d11f941735,4bf58dd8d48988d121941735,4bf58dd8d48988d137941735\n"
     ]
    },
    {
     "data": {
      "text/plain": [
       "'https://api.foursquare.com/v2/venues/search?client_id=CQTF5U0CCI2SPBLT5N3TO2HYTFJFA0UOL2SNNXW2SVCDZXMK&client_secret=FPQAH1O2DPPX0LA4A01GS5DGWHZAL1L4KHVKAZ3M3XJQBEGM&v=20180604&sw=45.4749123159139,9.215885891163369&ne=45.478278562382776,9.220696790889232&intent=browse&categoryId=4bf58dd8d48988d136941735,4bf58dd8d48988d1f1931735,5032792091d4c4b30a586d5c,4bf58dd8d48988d18e941735,56aa371be4b08b9a8d5734db,4bf58dd8d48988d1e5931735,4bf58dd8d48988d11f941735,4bf58dd8d48988d121941735,4bf58dd8d48988d137941735'"
      ]
     },
     "execution_count": 148,
     "metadata": {},
     "output_type": "execute_result"
    }
   ],
   "source": [
    "CLIENT_ID = 'CQTF5U0CCI2SPBLT5N3TO2HYTFJFA0UOL2SNNXW2SVCDZXMK' # your Foursquare ID\n",
    "CLIENT_SECRET = 'FPQAH1O2DPPX0LA4A01GS5DGWHZAL1L4KHVKAZ3M3XJQBEGM' # your Foursquare Secret\n",
    "VERSION = '20180604'\n",
    "LIMIT = 30\n",
    "print('Your credentails:')\n",
    "print('CLIENT_ID: ' + CLIENT_ID)\n",
    "print('CLIENT_SECRET:' + CLIENT_SECRET)\n",
    "categ_list = ['4bf58dd8d48988d1f1931735','5032792091d4c4b30a586d5c','4bf58dd8d48988d18e941735','56aa371be4b08b9a8d5734db',\n",
    "         '4bf58dd8d48988d1e5931735','4bf58dd8d48988d11f941735','4bf58dd8d48988d121941735','4bf58dd8d48988d137941735']\n",
    "\n",
    "CATEGS = '4bf58dd8d48988d136941735'\n",
    "for c in categ_list:\n",
    "    CATEGS = CATEGS + ',' + c\n",
    "print('CSV_CATEGS :' + CATEGS)\n",
    "\n",
    "url = 'https://api.foursquare.com/v2/venues/search?client_id={}&client_secret={}&v={}&sw={}&ne={}&intent=browse&categoryId={}'.format(CLIENT_ID, CLIENT_SECRET,VERSION,SW,NE,CATEGS)\n",
    "url"
   ]
  },
  {
   "cell_type": "markdown",
   "metadata": {},
   "source": [
    "##  Finding the critical size\n",
    "\n",
    "The next step in our problem is figuring out the side length of the square cell to be used for grid generation. \n",
    "\n",
    "The side should be such that when the API is called, it returns just short of 30 entries. \n",
    "\n",
    "Any decrease in side length would cause lesser than 30 results, and the result bandwidth of the API query will be wasted. \n",
    "\n",
    "Any more than the critical size, and we would miss out on some venues. (eg: 65 venues exist in reality but the API returns only 30 as that is the cap limit]\n",
    "\n",
    "The distribution density of each kind of location mentioned in the ‘Relevant Location types’ section would vary among different regions of our AOI. \n",
    "\n",
    "As a solution, we appeal to common sense and select a point where there is a high density of such venues known beforehand. \n",
    "\n",
    "We iteratively find out the critical size and use that as the length of our square as cell length for the grid.\n"
   ]
  },
  {
   "cell_type": "code",
   "execution_count": 27,
   "metadata": {},
   "outputs": [
    {
     "name": "stdout",
     "output_type": "stream",
     "text": [
      "Loop running for side : 650\n"
     ]
    },
    {
     "name": "stderr",
     "output_type": "stream",
     "text": [
      "C:\\Users\\Shaswat G\\anaconda3\\lib\\site-packages\\ipykernel_launcher.py:4: DeprecationWarning: This function is deprecated. See: https://pyproj4.github.io/pyproj/stable/gotchas.html#upgrading-to-pyproj-2-from-pyproj-1\n",
      "  after removing the cwd from sys.path.\n",
      "C:\\Users\\Shaswat G\\anaconda3\\lib\\site-packages\\ipykernel_launcher.py:10: DeprecationWarning: This function is deprecated. See: https://pyproj4.github.io/pyproj/stable/gotchas.html#upgrading-to-pyproj-2-from-pyproj-1\n",
      "  # Remove the CWD from sys.path while we load stuff.\n"
     ]
    },
    {
     "name": "stdout",
     "output_type": "stream",
     "text": [
      "Loop running for side : 625\n"
     ]
    },
    {
     "name": "stderr",
     "output_type": "stream",
     "text": [
      "C:\\Users\\Shaswat G\\anaconda3\\lib\\site-packages\\ipykernel_launcher.py:4: DeprecationWarning: This function is deprecated. See: https://pyproj4.github.io/pyproj/stable/gotchas.html#upgrading-to-pyproj-2-from-pyproj-1\n",
      "  after removing the cwd from sys.path.\n",
      "C:\\Users\\Shaswat G\\anaconda3\\lib\\site-packages\\ipykernel_launcher.py:10: DeprecationWarning: This function is deprecated. See: https://pyproj4.github.io/pyproj/stable/gotchas.html#upgrading-to-pyproj-2-from-pyproj-1\n",
      "  # Remove the CWD from sys.path while we load stuff.\n"
     ]
    },
    {
     "name": "stdout",
     "output_type": "stream",
     "text": [
      "Loop running for side : 600\n"
     ]
    },
    {
     "name": "stderr",
     "output_type": "stream",
     "text": [
      "C:\\Users\\Shaswat G\\anaconda3\\lib\\site-packages\\ipykernel_launcher.py:4: DeprecationWarning: This function is deprecated. See: https://pyproj4.github.io/pyproj/stable/gotchas.html#upgrading-to-pyproj-2-from-pyproj-1\n",
      "  after removing the cwd from sys.path.\n",
      "C:\\Users\\Shaswat G\\anaconda3\\lib\\site-packages\\ipykernel_launcher.py:10: DeprecationWarning: This function is deprecated. See: https://pyproj4.github.io/pyproj/stable/gotchas.html#upgrading-to-pyproj-2-from-pyproj-1\n",
      "  # Remove the CWD from sys.path while we load stuff.\n"
     ]
    },
    {
     "name": "stdout",
     "output_type": "stream",
     "text": [
      "Loop running for side : 575\n"
     ]
    },
    {
     "name": "stderr",
     "output_type": "stream",
     "text": [
      "C:\\Users\\Shaswat G\\anaconda3\\lib\\site-packages\\ipykernel_launcher.py:4: DeprecationWarning: This function is deprecated. See: https://pyproj4.github.io/pyproj/stable/gotchas.html#upgrading-to-pyproj-2-from-pyproj-1\n",
      "  after removing the cwd from sys.path.\n",
      "C:\\Users\\Shaswat G\\anaconda3\\lib\\site-packages\\ipykernel_launcher.py:10: DeprecationWarning: This function is deprecated. See: https://pyproj4.github.io/pyproj/stable/gotchas.html#upgrading-to-pyproj-2-from-pyproj-1\n",
      "  # Remove the CWD from sys.path while we load stuff.\n"
     ]
    },
    {
     "name": "stdout",
     "output_type": "stream",
     "text": [
      "Loop running for side : 550\n"
     ]
    },
    {
     "name": "stderr",
     "output_type": "stream",
     "text": [
      "C:\\Users\\Shaswat G\\anaconda3\\lib\\site-packages\\ipykernel_launcher.py:4: DeprecationWarning: This function is deprecated. See: https://pyproj4.github.io/pyproj/stable/gotchas.html#upgrading-to-pyproj-2-from-pyproj-1\n",
      "  after removing the cwd from sys.path.\n",
      "C:\\Users\\Shaswat G\\anaconda3\\lib\\site-packages\\ipykernel_launcher.py:10: DeprecationWarning: This function is deprecated. See: https://pyproj4.github.io/pyproj/stable/gotchas.html#upgrading-to-pyproj-2-from-pyproj-1\n",
      "  # Remove the CWD from sys.path while we load stuff.\n"
     ]
    },
    {
     "name": "stdout",
     "output_type": "stream",
     "text": [
      "Loop running for side : 525\n"
     ]
    },
    {
     "name": "stderr",
     "output_type": "stream",
     "text": [
      "C:\\Users\\Shaswat G\\anaconda3\\lib\\site-packages\\ipykernel_launcher.py:4: DeprecationWarning: This function is deprecated. See: https://pyproj4.github.io/pyproj/stable/gotchas.html#upgrading-to-pyproj-2-from-pyproj-1\n",
      "  after removing the cwd from sys.path.\n",
      "C:\\Users\\Shaswat G\\anaconda3\\lib\\site-packages\\ipykernel_launcher.py:10: DeprecationWarning: This function is deprecated. See: https://pyproj4.github.io/pyproj/stable/gotchas.html#upgrading-to-pyproj-2-from-pyproj-1\n",
      "  # Remove the CWD from sys.path while we load stuff.\n"
     ]
    },
    {
     "name": "stdout",
     "output_type": "stream",
     "text": [
      "Loop running for side : 500\n"
     ]
    },
    {
     "name": "stderr",
     "output_type": "stream",
     "text": [
      "C:\\Users\\Shaswat G\\anaconda3\\lib\\site-packages\\ipykernel_launcher.py:4: DeprecationWarning: This function is deprecated. See: https://pyproj4.github.io/pyproj/stable/gotchas.html#upgrading-to-pyproj-2-from-pyproj-1\n",
      "  after removing the cwd from sys.path.\n",
      "C:\\Users\\Shaswat G\\anaconda3\\lib\\site-packages\\ipykernel_launcher.py:10: DeprecationWarning: This function is deprecated. See: https://pyproj4.github.io/pyproj/stable/gotchas.html#upgrading-to-pyproj-2-from-pyproj-1\n",
      "  # Remove the CWD from sys.path while we load stuff.\n"
     ]
    },
    {
     "name": "stdout",
     "output_type": "stream",
     "text": [
      "Loop running for side : 475\n"
     ]
    },
    {
     "name": "stderr",
     "output_type": "stream",
     "text": [
      "C:\\Users\\Shaswat G\\anaconda3\\lib\\site-packages\\ipykernel_launcher.py:4: DeprecationWarning: This function is deprecated. See: https://pyproj4.github.io/pyproj/stable/gotchas.html#upgrading-to-pyproj-2-from-pyproj-1\n",
      "  after removing the cwd from sys.path.\n",
      "C:\\Users\\Shaswat G\\anaconda3\\lib\\site-packages\\ipykernel_launcher.py:10: DeprecationWarning: This function is deprecated. See: https://pyproj4.github.io/pyproj/stable/gotchas.html#upgrading-to-pyproj-2-from-pyproj-1\n",
      "  # Remove the CWD from sys.path while we load stuff.\n"
     ]
    },
    {
     "name": "stdout",
     "output_type": "stream",
     "text": [
      "Loop running for side : 450\n"
     ]
    },
    {
     "name": "stderr",
     "output_type": "stream",
     "text": [
      "C:\\Users\\Shaswat G\\anaconda3\\lib\\site-packages\\ipykernel_launcher.py:4: DeprecationWarning: This function is deprecated. See: https://pyproj4.github.io/pyproj/stable/gotchas.html#upgrading-to-pyproj-2-from-pyproj-1\n",
      "  after removing the cwd from sys.path.\n",
      "C:\\Users\\Shaswat G\\anaconda3\\lib\\site-packages\\ipykernel_launcher.py:10: DeprecationWarning: This function is deprecated. See: https://pyproj4.github.io/pyproj/stable/gotchas.html#upgrading-to-pyproj-2-from-pyproj-1\n",
      "  # Remove the CWD from sys.path while we load stuff.\n"
     ]
    },
    {
     "name": "stdout",
     "output_type": "stream",
     "text": [
      "Loop running for side : 425\n"
     ]
    },
    {
     "name": "stderr",
     "output_type": "stream",
     "text": [
      "C:\\Users\\Shaswat G\\anaconda3\\lib\\site-packages\\ipykernel_launcher.py:4: DeprecationWarning: This function is deprecated. See: https://pyproj4.github.io/pyproj/stable/gotchas.html#upgrading-to-pyproj-2-from-pyproj-1\n",
      "  after removing the cwd from sys.path.\n",
      "C:\\Users\\Shaswat G\\anaconda3\\lib\\site-packages\\ipykernel_launcher.py:10: DeprecationWarning: This function is deprecated. See: https://pyproj4.github.io/pyproj/stable/gotchas.html#upgrading-to-pyproj-2-from-pyproj-1\n",
      "  # Remove the CWD from sys.path while we load stuff.\n"
     ]
    },
    {
     "name": "stdout",
     "output_type": "stream",
     "text": [
      "Loop running for side : 400\n"
     ]
    },
    {
     "name": "stderr",
     "output_type": "stream",
     "text": [
      "C:\\Users\\Shaswat G\\anaconda3\\lib\\site-packages\\ipykernel_launcher.py:4: DeprecationWarning: This function is deprecated. See: https://pyproj4.github.io/pyproj/stable/gotchas.html#upgrading-to-pyproj-2-from-pyproj-1\n",
      "  after removing the cwd from sys.path.\n",
      "C:\\Users\\Shaswat G\\anaconda3\\lib\\site-packages\\ipykernel_launcher.py:10: DeprecationWarning: This function is deprecated. See: https://pyproj4.github.io/pyproj/stable/gotchas.html#upgrading-to-pyproj-2-from-pyproj-1\n",
      "  # Remove the CWD from sys.path while we load stuff.\n"
     ]
    },
    {
     "name": "stdout",
     "output_type": "stream",
     "text": [
      "Loop running for side : 375\n"
     ]
    },
    {
     "name": "stderr",
     "output_type": "stream",
     "text": [
      "C:\\Users\\Shaswat G\\anaconda3\\lib\\site-packages\\ipykernel_launcher.py:4: DeprecationWarning: This function is deprecated. See: https://pyproj4.github.io/pyproj/stable/gotchas.html#upgrading-to-pyproj-2-from-pyproj-1\n",
      "  after removing the cwd from sys.path.\n",
      "C:\\Users\\Shaswat G\\anaconda3\\lib\\site-packages\\ipykernel_launcher.py:10: DeprecationWarning: This function is deprecated. See: https://pyproj4.github.io/pyproj/stable/gotchas.html#upgrading-to-pyproj-2-from-pyproj-1\n",
      "  # Remove the CWD from sys.path while we load stuff.\n"
     ]
    },
    {
     "name": "stdout",
     "output_type": "stream",
     "text": [
      "updating critical side..\n",
      "Number of calls : 12\n",
      "Critical side length = 375\n"
     ]
    }
   ],
   "source": [
    "sw_lon = 9.18819\n",
    "sw_lat = 45.46058\n",
    "critic_side = 700\n",
    "calls = 0\n",
    "\n",
    "for side in np.arange(650,99,-25):\n",
    "    \n",
    "    print('Loop running for side : '+str(side))\n",
    "    sw_x, sw_y = lonlat_to_xy(sw_lon,sw_lat)\n",
    "    ne_x = sw_x + side\n",
    "    ne_y = sw_y + side\n",
    "    ne_lon, ne_lat = xy_to_lonlat(ne_x, ne_y)\n",
    "    \n",
    "    SW = str(sw_lat) + ',' + str(sw_lon)\n",
    "    NE = str(ne_lat) + ',' + str(ne_lon)\n",
    "\n",
    "    url = 'https://api.foursquare.com/v2/venues/search?client_id={}&client_secret={}&v={}&sw={}&ne={}&intent=browse&categoryId={}'.format(CLIENT_ID, CLIENT_SECRET,VERSION,SW,NE,CATEGS)\n",
    "    results = requests.get(url).json()\n",
    "    calls += 1\n",
    "    venues = results['response']['venues']\n",
    "    l = len(venues)\n",
    "    \n",
    "    if (l<30):\n",
    "        print('updating critical side..')\n",
    "        critic_side = side\n",
    "        break\n",
    "    else:\n",
    "        pass    \n",
    "print('Number of calls : '+str(calls))\n",
    "print('Critical side length = '+str(critic_side))"
   ]
  },
  {
   "cell_type": "code",
   "execution_count": 28,
   "metadata": {},
   "outputs": [
    {
     "data": {
      "text/plain": [
       "375"
      ]
     },
     "execution_count": 28,
     "metadata": {},
     "output_type": "execute_result"
    }
   ],
   "source": [
    "critic_side"
   ]
  },
  {
   "cell_type": "markdown",
   "metadata": {},
   "source": [
    "The loop of cell side length was calibrated to run from 700 meters to 100 meters in decrements of 25 meters. The loop was designed to break whenever the length of the results was less than 30 (cap) and the critical side length was found.\n",
    "\n",
    "Critical_side_length = 375 meters"
   ]
  },
  {
   "cell_type": "markdown",
   "metadata": {},
   "source": [
    "## Creating a new function for making grid on a map\n"
   ]
  },
  {
   "cell_type": "markdown",
   "metadata": {},
   "source": [
    "Now that the AOI and the critical size has been defined, we must fabricate a new version of our ‘make_grid(R,S)’ to return the list of SW corners and the corresponding NE corners of each cell in the grid. \n",
    "\n",
    "This is one of the most difficult tasks encountered so far.\n"
   ]
  },
  {
   "cell_type": "code",
   "execution_count": 55,
   "metadata": {},
   "outputs": [],
   "source": [
    "def map_grid(epicenter,R,s):\n",
    "    #--- epicenter format is [lat,lng], the center of Milan City Zone 1, (Cairoli Castello) ---\n",
    "    #--- R is the radius in meters (here, R = 3000)\n",
    "    #--- transform the problem into cartesian coordinates ---\n",
    "    center_x, center_y = lonlat_to_xy(epicenter[1],epicenter[0])\n",
    "    side  = 2*R\n",
    "    r = s/2\n",
    "    diag_x = center_x - R\n",
    "    diag_y = center_y - R\n",
    "\n",
    "    def check_circle(x,y):\n",
    "        val = math.sqrt(pow((center_x-x),2)+pow((center_y-y),2)) - R\n",
    "        if(val>0):\n",
    "            return False\n",
    "        else:\n",
    "            return True\n",
    "\n",
    "    #--- intermediate circle centers of readius r---\n",
    "    x_coords = np.arange(diag_x+r,diag_x+side+r,2*r)\n",
    "    y_coords = np.arange(diag_y+r,diag_y+side+r,2*r)\n",
    "    sw_coords = []\n",
    "    ne_coords = []\n",
    "\n",
    "    for X in x_coords:\n",
    "        for Y in y_coords:\n",
    "            if (check_circle(X,Y)):\n",
    "                sw_coords.append(list(xy_to_lonlat(X-r, Y-r)))\n",
    "                ne_coords.append(list(xy_to_lonlat(X+r, Y+r)))\n",
    "            else:\n",
    "                pass\n",
    "            \n",
    "    #--- sw_coords and ne_coords have the format [[lng,lat]]\n",
    "    return sw_coords,ne_coords"
   ]
  },
  {
   "cell_type": "code",
   "execution_count": null,
   "metadata": {},
   "outputs": [],
   "source": [
    "epicenter = [45.46822, 9.18228]\n",
    "R = 3000\n",
    "s = 375\n",
    "sw_coords,ne_coords = map_grid(epicenter,R,s)\n",
    "print(len(sw_coords))"
   ]
  },
  {
   "cell_type": "markdown",
   "metadata": {},
   "source": [
    "## Function to obtain a cleaned data frame from api results"
   ]
  },
  {
   "cell_type": "markdown",
   "metadata": {},
   "source": [
    "Once the API has been called and the response result obtained, it has to be converted to a clean looking data frame for further concatenation and classificational analysis.\n",
    "\n",
    "This job is performed perfectly by the ‘venues_to_df()’ function.\n",
    "\n",
    "This function is to be acted upon every time an API call is made, to get a clean data frame.\n"
   ]
  },
  {
   "cell_type": "code",
   "execution_count": 111,
   "metadata": {},
   "outputs": [],
   "source": [
    "def venues_to_df(venues):\n",
    "    \n",
    "    dataframe = json_normalize(venues)\n",
    "    # keep only columns that include venue name, and anything that is associated with location\n",
    "    #--- using list concatenation and ternary loop conditional to construct lists and string.startswith(prefix) method\n",
    "    filtered_columns = ['name', 'categories'] + [col for col in dataframe.columns if col.startswith('location.')] + ['id']\n",
    "    #--- slicing, .loc method uses labels, i.e. index and column names ---\n",
    "    dataframe_filtered = dataframe.loc[:, filtered_columns]\n",
    "    # filter the category for each row\n",
    "    dataframe_filtered['categories'] = dataframe_filtered.apply(get_category_type, axis=1)\n",
    "    # clean column names by keeping only last term\n",
    "    dataframe_filtered.columns = [column.split('.')[-1] for column in dataframe_filtered.columns]\n",
    "    df_req = pd.DataFrame()\n",
    "\n",
    "    for param in ['name','categories','address','lat','lng','id']:\n",
    "        if param in dataframe_filtered.columns:\n",
    "            df_req[param] = dataframe_filtered[param]\n",
    "        else:\n",
    "            df_req[param] = np.full(len(dataframe_filtered),np.nan)\n",
    "\n",
    "    df_req.columns = ['NAME','CATEGORY','ADDRESS','LAT','LNG','ID']\n",
    "    \n",
    "    return df_req"
   ]
  },
  {
   "cell_type": "code",
   "execution_count": 112,
   "metadata": {},
   "outputs": [
    {
     "name": "stderr",
     "output_type": "stream",
     "text": [
      "C:\\Users\\Shaswat G\\anaconda3\\lib\\site-packages\\ipykernel_launcher.py:3: FutureWarning: pandas.io.json.json_normalize is deprecated, use pandas.json_normalize instead\n",
      "  This is separate from the ipykernel package so we can avoid doing imports until\n"
     ]
    },
    {
     "data": {
      "text/html": [
       "<div>\n",
       "<style scoped>\n",
       "    .dataframe tbody tr th:only-of-type {\n",
       "        vertical-align: middle;\n",
       "    }\n",
       "\n",
       "    .dataframe tbody tr th {\n",
       "        vertical-align: top;\n",
       "    }\n",
       "\n",
       "    .dataframe thead th {\n",
       "        text-align: right;\n",
       "    }\n",
       "</style>\n",
       "<table border=\"1\" class=\"dataframe\">\n",
       "  <thead>\n",
       "    <tr style=\"text-align: right;\">\n",
       "      <th></th>\n",
       "      <th>NAME</th>\n",
       "      <th>CATEGORY</th>\n",
       "      <th>ADDRESS</th>\n",
       "      <th>LAT</th>\n",
       "      <th>LNG</th>\n",
       "      <th>ID</th>\n",
       "    </tr>\n",
       "  </thead>\n",
       "  <tbody>\n",
       "    <tr>\n",
       "      <th>0</th>\n",
       "      <td>Biliardo Corso Colombo</td>\n",
       "      <td>General Entertainment</td>\n",
       "      <td>NaN</td>\n",
       "      <td>45.459100</td>\n",
       "      <td>9.161006</td>\n",
       "      <td>4f68de84e4b0fef790124307</td>\n",
       "    </tr>\n",
       "    <tr>\n",
       "      <th>1</th>\n",
       "      <td>Corso Del Lunedì</td>\n",
       "      <td>General Entertainment</td>\n",
       "      <td>NaN</td>\n",
       "      <td>45.460863</td>\n",
       "      <td>9.162810</td>\n",
       "      <td>4e89688193ad855afd6a15a3</td>\n",
       "    </tr>\n",
       "  </tbody>\n",
       "</table>\n",
       "</div>"
      ],
      "text/plain": [
       "                     NAME               CATEGORY  ADDRESS        LAT  \\\n",
       "0  Biliardo Corso Colombo  General Entertainment      NaN  45.459100   \n",
       "1        Corso Del Lunedì  General Entertainment      NaN  45.460863   \n",
       "\n",
       "        LNG                        ID  \n",
       "0  9.161006  4f68de84e4b0fef790124307  \n",
       "1  9.162810  4e89688193ad855afd6a15a3  "
      ]
     },
     "execution_count": 112,
     "metadata": {},
     "output_type": "execute_result"
    }
   ],
   "source": [
    "venues_to_df(venues)"
   ]
  },
  {
   "cell_type": "markdown",
   "metadata": {},
   "source": [
    "The above was an example\n"
   ]
  },
  {
   "cell_type": "markdown",
   "metadata": {},
   "source": [
    "## Calling API on all cells\n"
   ]
  },
  {
   "cell_type": "markdown",
   "metadata": {},
   "source": [
    "The main loop may run into errors, so to be safe, I concatenate the resulting data frames of 20 APIs each and then collate them into a list called ‘list_of_df’.\n",
    "Let’s concatenate all these data frames into one ultimate data frame and write it into a CSV file.\n"
   ]
  },
  {
   "cell_type": "code",
   "execution_count": 113,
   "metadata": {},
   "outputs": [
    {
     "name": "stderr",
     "output_type": "stream",
     "text": [
      "C:\\Users\\Shaswat G\\anaconda3\\lib\\site-packages\\ipykernel_launcher.py:3: FutureWarning: pandas.io.json.json_normalize is deprecated, use pandas.json_normalize instead\n",
      "  This is separate from the ipykernel package so we can avoid doing imports until\n"
     ]
    }
   ],
   "source": [
    "#--- list of data frames, each is a result of concatenation of 20 API responses, i.e at most 600 entries ---\n",
    "list_of_df = []\n",
    "concat_df = pd.DataFrame(columns = ['NAME', 'CATEGORY', 'ADDRESS', 'LAT', 'LNG', 'ID'])\n",
    "api_counter = 0\n",
    "calls = 0\n",
    "\n",
    "for sw, ne in zip(sw_coords,ne_coords):\n",
    "    \n",
    "    SW = str(sw[1])+','+str(sw[0])\n",
    "    NE = str(ne[1])+','+str(ne[0])\n",
    "    \n",
    "    url = 'https://api.foursquare.com/v2/venues/search?client_id={}&client_secret={}&v={}&sw={}&ne={}&intent=browse&categoryId={}'.format(CLIENT_ID, CLIENT_SECRET,VERSION,SW,NE,CATEGS)\n",
    "    results = requests.get(url).json()\n",
    "    api_counter += 1\n",
    "    calls += 1\n",
    "    venues = results['response']['venues']\n",
    "    if(len(venues)!=0):\n",
    "        df = venues_to_df(venues)\n",
    "\n",
    "        if(calls == 20):\n",
    "            calls = 0\n",
    "            concat_df = pd.concat([concat_df,df], ignore_index = True)\n",
    "            list_of_df.append(concat_df)\n",
    "            concat_df = pd.DataFrame(columns = ['NAME', 'CATEGORY', 'ADDRESS', 'LAT', 'LNG', 'ID'])\n",
    "        else:\n",
    "            concat_df = pd.concat([concat_df,df], ignore_index = True)\n",
    "    else:\n",
    "        pass\n",
    "    \n",
    "list_of_df.append(concat_df)"
   ]
  },
  {
   "cell_type": "code",
   "execution_count": 119,
   "metadata": {},
   "outputs": [
    {
     "name": "stdout",
     "output_type": "stream",
     "text": [
      "number of API calls : 208\n"
     ]
    }
   ],
   "source": [
    "print( 'number of API calls : ' + str(api_counter))\n",
    "uf = pd.DataFrame(columns = ['NAME', 'CATEGORY', 'ADDRESS', 'LAT', 'LNG', 'ID'])\n",
    "for d in list_of_df:\n",
    "    uf = pd.concat([uf,d], ignore_index = True)\n",
    "uf.to_csv('ultimate.csv')"
   ]
  },
  {
   "cell_type": "markdown",
   "metadata": {},
   "source": [
    "## Construct appropriate dictionaries."
   ]
  },
  {
   "cell_type": "markdown",
   "metadata": {},
   "source": [
    "\n",
    "Categories = [Opera House, General Entertainment, Concert Hall, Comedy Club, Amphitheater, Music Venue, Nightclub, Lounge, Theater] are the unique values in the categories column.\n",
    "\n",
    "Each of these has to be grouped on the basis of :-\n",
    "\n",
    "### Event time:\n",
    "For each category, decide a plausible set of times at which an event/gig/performance can take place.\n",
    "### Event Scale:\n",
    "For each category, decide a plausible set of scales at which an event/gig/performance can take place.\n",
    "### Event Type:\n",
    "For each category, decide a plausible set of event types that can take place.\n"
   ]
  },
  {
   "cell_type": "code",
   "execution_count": 141,
   "metadata": {},
   "outputs": [
    {
     "name": "stdout",
     "output_type": "stream",
     "text": [
      "['Theater' 'Concert Hall' 'Lounge' 'General Entertainment' 'Music Venue'\n",
      " 'Comedy Club' 'Nightclub' 'Dance Studio' 'Event Space'\n",
      " 'Residential Building (Apartment / Condo)' 'Piano Bar' 'Rock Club'\n",
      " 'Cocktail Bar' 'Gastropub' 'Amphitheater' 'Bar' 'Italian Restaurant'\n",
      " 'Art Gallery' 'Strip Club' 'Other Nightlife' 'Road' 'Jazz Club' 'Office'\n",
      " 'Miscellaneous Shop' 'Radio Station' 'Movie Theater' 'Electronics Store'\n",
      " 'Performing Arts Venue' 'Social Club' 'Art Museum' 'Café' 'Building'\n",
      " 'Cultural Center' 'Opera House' 'Coffee Shop' 'Wine Bar' 'Shoe Store'\n",
      " 'Library' 'College Auditorium' 'Modern European Restaurant' 'Pub'\n",
      " 'Coworking Space' 'College Library' 'Gay Bar' 'Hotel Bar'\n",
      " 'Photography Lab' 'Hotel' 'Indie Theater' 'General College & University'\n",
      " 'Music School' 'Restaurant' 'Mediterranean Restaurant' 'Diner'\n",
      " 'Hookah Bar']\n",
      "dict_keys(['Theater', 'Concert Hall', 'Lounge', 'General Entertainment', 'Music Venue', 'Comedy Club', 'Nightclub', 'Dance Studio', 'Event Space', 'Residential Building (Apartment / Condo)', 'Piano Bar', 'Rock Club', 'Cocktail Bar', 'Gastropub', 'Amphitheater', 'Bar', 'Italian Restaurant', 'Art Gallery', 'Strip Club', 'Other Nightlife', 'Road', 'Jazz Club', 'Office', 'Miscellaneous Shop', 'Radio Station', 'Movie Theater', 'Electronics Store', 'Performing Arts Venue', 'Social Club', 'Art Museum', 'Café', 'Building', 'Cultural Center', 'Opera House', 'Coffee Shop', 'Wine Bar', 'Shoe Store', 'Library', 'College Auditorium', 'Modern European Restaurant', 'Pub', 'Coworking Space', 'College Library', 'Gay Bar', 'Hotel Bar', 'Photography Lab', 'Hotel', 'Indie Theater', 'General College & University', 'Music School', 'Restaurant', 'Mediterranean Restaurant', 'Diner', 'Hookah Bar'])\n",
      "dict_values(['large', 'large', 'small', 'small', 'small', 'small', 'small', 'small', 'large', 'small', 'small', 'small', 'small', 'small', 'large', 'small', 'small', 'small', 'small', 'small', None, 'small', 'small', None, 'small', 'large', None, 'large', 'small', 'large', 'small', 'small', 'large', 'large', 'small', 'small', None, None, 'large', 'small', 'small', 'small', None, 'small', 'small', None, 'small', 'small', 'large', 'small', 'small', 'small', 'small', 'small'])\n",
      "dict_keys(['Theater', 'Concert Hall', 'Lounge', 'General Entertainment', 'Music Venue', 'Comedy Club', 'Nightclub', 'Dance Studio', 'Event Space', 'Residential Building (Apartment / Condo)', 'Cocktail Bar', 'Gastropub', 'Amphitheater', 'Bar', 'Italian Restaurant', 'Art Gallery', 'Strip Club', 'Other Nightlife', 'Road', 'Jazz Club', 'Office', 'Miscellaneous Shop', 'Radio Station', 'Movie Theater', 'Electronics Store', 'Performing Arts Venue', 'Social Club', 'Art Museum', 'Café', 'Building', 'Cultural Center', 'Opera House', 'Coffee Shop', 'Wine Bar', 'Shoe Store', 'Library', 'Rock Club', 'College Auditorium', 'Modern European Restaurant', 'Pub', 'Coworking Space', 'College Library', 'Gay Bar', 'Hotel Bar', 'Photography Lab', 'Hotel', 'Piano Bar', 'Indie Theater', 'General College & University', 'Music School', 'Restaurant', 'Mediterranean Restaurant', 'Diner', 'Hookah Bar'])\n",
      "dict_values(['Day, Evening', 'Day, Evening', 'Evening, Night', 'Day, Evening, Night, LateNight', 'Day, Evening, Night, LateNight', 'Evening, Night', 'Evening, Night', 'Day, Evening, Night, LateNight', 'Day, Evening, Night, LateNight', 'Day, Evening', 'Evening, Night', 'Evening, Night', 'Day, Evening', 'Evening, Night', 'Day, Evening, Night, LateNight', 'Day, Evening', 'Evening, Night', 'Evening, Night', 'Day, Evening, Night, LateNight', 'Day, Evening, Night, LateNight', 'Evening, Night', None, 'Day, Evening', 'Evening, Night', None, 'Day, Evening, Night, LateNight', 'Evening, Night', 'Day, Evening', 'Day, Evening, Night, LateNight', 'Day, Evening, Night, LateNight', 'Day, Evening', 'Day, Evening', 'Day, Evening, Night, LateNight', 'Evening, Night', None, None, 'Day, Evening, Night, LateNight', 'Day, Evening, Night, LateNight', 'Day, Evening, Night, LateNight', 'Evening, Night', 'Evening, Night', None, 'Evening, Night', 'Evening, Night', None, 'Day, Evening, Night, LateNight', 'Evening, Night', 'Evening, Night', 'Day, Evening, Night, LateNight', 'Day, Evening, Night, LateNight', 'Day, Evening, Night, LateNight', 'Day, Evening, Night, LateNight', 'Day, Evening, Night, LateNight', 'Evening, Night'])\n",
      "dict_keys(['Theater', 'Concert Hall', 'Lounge', 'General Entertainment', 'Music Venue', 'Comedy Club', 'Nightclub', 'Dance Studio', 'Event Space', 'Residential Building (Apartment / Condo)', 'Piano Bar', 'Rock Club', 'Cocktail Bar', 'Gastropub', 'Amphitheater', 'Bar', 'Italian Restaurant', 'Art Gallery', 'Strip Club', 'Other Nightlife', 'Road', 'Jazz Club', 'Office', 'Miscellaneous Shop', 'Radio Station', 'Movie Theater', 'Electronics Store', 'Performing Arts Venue', 'Social Club', 'Art Museum', 'Café', 'Building', 'Cultural Center', 'Opera House', 'Coffee Shop', 'Wine Bar', 'Shoe Store', 'Library', 'College Auditorium', 'Modern European Restaurant', 'Pub', 'Coworking Space', 'College Library', 'Gay Bar', 'Hotel Bar', 'Photography Lab', 'Hotel', 'Indie Theater', 'General College & University', 'Music School', 'Restaurant', 'Mediterranean Restaurant', 'Diner', 'Hookah Bar'])\n",
      "dict_values(['All', 'All', 'dance, music, acting, magic,comedy', 'All', 'Musical Theatre, Music', 'Comedy', 'dance, music, acting, magic,comedy', 'Musical Theater, Dance, Music', 'All', 'All', 'Musical Theater, Dance, Music, Magic', 'Musical Theatre, Music', 'dance, music, acting, magic,comedy', 'dance, music, acting, magic,comedy', 'All', 'dance, music, acting, magic,comedy', 'dance, music, acting, magic,comedy', 'dance, music, acting, magic,comedy', 'dance, music, acting, magic,comedy', 'dance, music, acting, magic,comedy', 'All', 'Musical Theatre, Music', 'dance, music, acting, magic,comedy', None, 'dance, music, acting, magic,comedy', 'dance, music, acting, magic,comedy', None, 'All', 'All', 'dance, music, acting, magic,comedy', 'dance, music, acting, magic,comedy', 'dance, music, acting, magic,comedy', 'All', 'All', 'dance, music, acting, magic,comedy', 'dance, music, acting, magic,comedy', None, None, 'All', 'dance, music, acting, magic,comedy', 'dance, music, acting, magic,comedy', 'dance, music, acting, magic,comedy', None, 'dance, music, acting, magic,comedy', 'dance, music, acting, magic,comedy', None, 'dance, music, acting, magic,comedy', 'dance, music, acting, magic,comedy', 'All', 'Musical Theatre, Music', 'dance, music, acting, magic,comedy', 'dance, music, acting, magic,comedy', 'dance, music, acting, magic,comedy', 'dance, music, acting, magic,comedy'])\n"
     ]
    }
   ],
   "source": [
    "print(uf['CATEGORY'].unique())\n",
    "\n",
    "scale = {'Theater':'large', 'Concert Hall':'large', 'Lounge':'small', 'General Entertainment':'small',\n",
    "       'Music Venue':'small', 'Comedy Club':'small', 'Nightclub':'small', 'Dance Studio':'small',\n",
    "       'Event Space':'large', 'Residential Building (Apartment / Condo)':'small',\n",
    "       'Piano Bar':'small', 'Rock Club':'small', 'Cocktail Bar':'small', 'Gastropub':'small',\n",
    "       'Amphitheater':'large', 'Bar':'small', 'Italian Restaurant':'small', 'Art Gallery':'small',\n",
    "       'Strip Club':'small', 'Other Nightlife':'small', 'Road':None, 'Jazz Club':'small', 'Office':'small',\n",
    "       'Miscellaneous Shop':None, 'Radio Station':'small', 'Movie Theater':'large',\n",
    "       'Electronics Store':None, 'Performing Arts Venue':'large', 'Social Club':'small',\n",
    "       'Art Museum':'large', 'Café':'small', 'Building':'small', 'Cultural Center':'large', 'Opera House':'large',\n",
    "       'Coffee Shop':'small', 'Wine Bar':'small', 'Shoe Store':None, 'Library':None,\n",
    "       'College Auditorium':'large', 'Modern European Restaurant':'small', 'Pub':'small',\n",
    "       'Coworking Space':'small', 'College Library':None, 'Gay Bar':'small', 'Hotel Bar':'small',\n",
    "       'Photography Lab':None, 'Hotel':'small', 'Indie Theater':'small',\n",
    "       'General College & University':'large', 'Music School':'small', 'Restaurant':'small',\n",
    "       'Mediterranean Restaurant':'small', 'Diner':'small', 'Hookah Bar':'small'}\n",
    "print(scale.keys())\n",
    "print(scale.values())\n",
    "\n",
    "time_of_day = {'Theater':'Day, Evening', 'Concert Hall':'Day, Evening', 'Lounge':'Evening, Night', 'General Entertainment':'Day, Evening, Night, LateNight',\n",
    "       'Music Venue':'Day, Evening, Night, LateNight', 'Comedy Club':'Evening, Night', 'Nightclub':'Evening, Night', 'Dance Studio':'Day, Evening, Night, LateNight',\n",
    "       'Event Space':'Day, Evening, Night, LateNight', 'Residential Building (Apartment / Condo)':'Day, Evening','Cocktail Bar':'Evening, Night', 'Gastropub':'Evening, Night',\n",
    "       'Amphitheater':'Day, Evening', 'Bar':'Evening, Night', 'Italian Restaurant':'Day, Evening, Night, LateNight', 'Art Gallery':'Day, Evening',\n",
    "       'Strip Club':'Evening, Night', 'Other Nightlife':'Evening, Night', 'Road':'Day, Evening, Night, LateNight', 'Jazz Club':'Day, Evening, Night, LateNight', 'Office':'Evening, Night',\n",
    "       'Miscellaneous Shop':None, 'Radio Station':'Day, Evening', 'Movie Theater':'Evening, Night',\n",
    "       'Electronics Store':None, 'Performing Arts Venue':'Day, Evening, Night, LateNight', 'Social Club':'Evening, Night',\n",
    "       'Art Museum':'Day, Evening', 'Café':'Day, Evening, Night, LateNight', 'Building':'Day, Evening, Night, LateNight', 'Cultural Center':'Day, Evening', 'Opera House':'Day, Evening',\n",
    "       'Coffee Shop':'Day, Evening, Night, LateNight', 'Wine Bar':'Evening, Night', 'Shoe Store': None, 'Library':None,'Rock Club':'Day, Evening, Night, LateNight',\n",
    "       'College Auditorium':'Day, Evening, Night, LateNight', 'Modern European Restaurant':'Day, Evening, Night, LateNight', 'Pub':'Evening, Night',\n",
    "       'Coworking Space':'Evening, Night', 'College Library':None, 'Gay Bar':'Evening, Night', 'Hotel Bar':'Evening, Night',\n",
    "       'Photography Lab':None, 'Hotel':'Day, Evening, Night, LateNight','Piano Bar':'Evening, Night' ,'Indie Theater':'Evening, Night',\n",
    "       'General College & University':'Day, Evening, Night, LateNight', 'Music School':'Day, Evening, Night, LateNight', 'Restaurant':'Day, Evening, Night, LateNight',\n",
    "       'Mediterranean Restaurant':'Day, Evening, Night, LateNight', 'Diner':'Day, Evening, Night, LateNight', 'Hookah Bar':'Evening, Night'}\n",
    "print(time_of_day.keys())\n",
    "print(time_of_day.values())\n",
    "\n",
    "event_types = {'Theater':'All', 'Concert Hall':'All', 'Lounge':'dance, music, acting, magic,comedy', 'General Entertainment':'All',\n",
    "       'Music Venue':'Musical Theatre, Music', 'Comedy Club':'Comedy', 'Nightclub':'dance, music, acting, magic,comedy', 'Dance Studio':'Musical Theater, Dance, Music',\n",
    "       'Event Space':'All', 'Residential Building (Apartment / Condo)':'All',\n",
    "       'Piano Bar':'Musical Theater, Dance, Music, Magic', 'Rock Club':'Musical Theatre, Music', 'Cocktail Bar':'dance, music, acting, magic,comedy', 'Gastropub':'dance, music, acting, magic,comedy',\n",
    "       'Amphitheater':'All', 'Bar':'dance, music, acting, magic,comedy', 'Italian Restaurant':'dance, music, acting, magic,comedy', 'Art Gallery':'dance, music, acting, magic,comedy',\n",
    "       'Strip Club':'dance, music, acting, magic,comedy', 'Other Nightlife':'dance, music, acting, magic,comedy', 'Road':'All', 'Jazz Club':'Musical Theatre, Music', 'Office':'dance, music, acting, magic,comedy',\n",
    "       'Miscellaneous Shop':None, 'Radio Station':'dance, music, acting, magic,comedy', 'Movie Theater':'dance, music, acting, magic,comedy',\n",
    "       'Electronics Store':None, 'Performing Arts Venue':'All', 'Social Club':'All',\n",
    "       'Art Museum':'dance, music, acting, magic,comedy', 'Café':'dance, music, acting, magic,comedy', 'Building':'dance, music, acting, magic,comedy', 'Cultural Center':'All', 'Opera House':'All',\n",
    "       'Coffee Shop':'dance, music, acting, magic,comedy', 'Wine Bar':'dance, music, acting, magic,comedy', 'Shoe Store':None, 'Library':None,\n",
    "       'College Auditorium':'All', 'Modern European Restaurant':'dance, music, acting, magic,comedy', 'Pub':'dance, music, acting, magic,comedy',\n",
    "       'Coworking Space':'dance, music, acting, magic,comedy', 'College Library':None, 'Gay Bar':'dance, music, acting, magic,comedy', 'Hotel Bar':'dance, music, acting, magic,comedy',\n",
    "       'Photography Lab':None, 'Hotel':'dance, music, acting, magic,comedy', 'Indie Theater':'dance, music, acting, magic,comedy',\n",
    "       'General College & University':'All', 'Music School':'Musical Theatre, Music', 'Restaurant':'dance, music, acting, magic,comedy',\n",
    "       'Mediterranean Restaurant':'dance, music, acting, magic,comedy', 'Diner':'dance, music, acting, magic,comedy', 'Hookah Bar':'dance, music, acting, magic,comedy'}\n",
    "print(event_types.keys())\n",
    "print(event_types.values())"
   ]
  },
  {
   "cell_type": "markdown",
   "metadata": {},
   "source": [
    "### After Grouping:\n",
    "After the event type, scale, and time have been decided, the final dataset looks like"
   ]
  },
  {
   "cell_type": "code",
   "execution_count": 142,
   "metadata": {},
   "outputs": [
    {
     "data": {
      "text/html": [
       "<div>\n",
       "<style scoped>\n",
       "    .dataframe tbody tr th:only-of-type {\n",
       "        vertical-align: middle;\n",
       "    }\n",
       "\n",
       "    .dataframe tbody tr th {\n",
       "        vertical-align: top;\n",
       "    }\n",
       "\n",
       "    .dataframe thead th {\n",
       "        text-align: right;\n",
       "    }\n",
       "</style>\n",
       "<table border=\"1\" class=\"dataframe\">\n",
       "  <thead>\n",
       "    <tr style=\"text-align: right;\">\n",
       "      <th></th>\n",
       "      <th>NAME</th>\n",
       "      <th>CATEGORY</th>\n",
       "      <th>ADDRESS</th>\n",
       "      <th>LAT</th>\n",
       "      <th>LNG</th>\n",
       "      <th>ID</th>\n",
       "      <th>SCALE</th>\n",
       "      <th>EVENT</th>\n",
       "      <th>TIME_OF_DAY</th>\n",
       "    </tr>\n",
       "  </thead>\n",
       "  <tbody>\n",
       "    <tr>\n",
       "      <th>0</th>\n",
       "      <td>Teatro Orione ora Ecoteatro</td>\n",
       "      <td>Theater</td>\n",
       "      <td>Via Fezzan 11</td>\n",
       "      <td>45.459073</td>\n",
       "      <td>9.145781</td>\n",
       "      <td>4d41cf1fbd53f04d480a5115</td>\n",
       "      <td>large</td>\n",
       "      <td>All</td>\n",
       "      <td>Day, Evening</td>\n",
       "    </tr>\n",
       "    <tr>\n",
       "      <th>1</th>\n",
       "      <td>Red's cess</td>\n",
       "      <td>Concert Hall</td>\n",
       "      <td>NaN</td>\n",
       "      <td>45.464245</td>\n",
       "      <td>9.147996</td>\n",
       "      <td>4e3dde9745dd68e327403145</td>\n",
       "      <td>large</td>\n",
       "      <td>All</td>\n",
       "      <td>Day, Evening</td>\n",
       "    </tr>\n",
       "    <tr>\n",
       "      <th>2</th>\n",
       "      <td>Sotterranei Oscuri di Casa Gozzo</td>\n",
       "      <td>Lounge</td>\n",
       "      <td>Via Giuseppe Frua 21/6</td>\n",
       "      <td>45.464475</td>\n",
       "      <td>9.147840</td>\n",
       "      <td>4df3070218a88611c6bb2255</td>\n",
       "      <td>small</td>\n",
       "      <td>dance, music, acting, magic,comedy</td>\n",
       "      <td>Evening, Night</td>\n",
       "    </tr>\n",
       "    <tr>\n",
       "      <th>3</th>\n",
       "      <td>Accademia Di Teatroterapia Non Chiamateci Attori</td>\n",
       "      <td>Theater</td>\n",
       "      <td>Via Giovanni Battista Moroni 8</td>\n",
       "      <td>45.465579</td>\n",
       "      <td>9.146489</td>\n",
       "      <td>4dcd458b52b1f8915b78cc68</td>\n",
       "      <td>large</td>\n",
       "      <td>All</td>\n",
       "      <td>Day, Evening</td>\n",
       "    </tr>\n",
       "    <tr>\n",
       "      <th>4</th>\n",
       "      <td>la mia ora di yoga</td>\n",
       "      <td>General Entertainment</td>\n",
       "      <td>NaN</td>\n",
       "      <td>45.468349</td>\n",
       "      <td>9.148692</td>\n",
       "      <td>4f15acfae4b0960d02fe2b1d</td>\n",
       "      <td>small</td>\n",
       "      <td>All</td>\n",
       "      <td>Day, Evening, Night, LateNight</td>\n",
       "    </tr>\n",
       "    <tr>\n",
       "      <th>5</th>\n",
       "      <td>The Tune</td>\n",
       "      <td>Music Venue</td>\n",
       "      <td>Via Frascati</td>\n",
       "      <td>45.468979</td>\n",
       "      <td>9.145949</td>\n",
       "      <td>4c92423d238c6dcb07e3c655</td>\n",
       "      <td>small</td>\n",
       "      <td>Musical Theatre, Music</td>\n",
       "      <td>Day, Evening, Night, LateNight</td>\n",
       "    </tr>\n",
       "    <tr>\n",
       "      <th>6</th>\n",
       "      <td>Teatro del buratto</td>\n",
       "      <td>Theater</td>\n",
       "      <td>Via Mosè Bianchi 84</td>\n",
       "      <td>45.475672</td>\n",
       "      <td>9.145051</td>\n",
       "      <td>4ebfddfc0e019a162ac92d67</td>\n",
       "      <td>large</td>\n",
       "      <td>All</td>\n",
       "      <td>Day, Evening</td>\n",
       "    </tr>\n",
       "    <tr>\n",
       "      <th>7</th>\n",
       "      <td>Bea Expo Festival</td>\n",
       "      <td>General Entertainment</td>\n",
       "      <td>Spazio Eventiquattro</td>\n",
       "      <td>45.477550</td>\n",
       "      <td>9.145829</td>\n",
       "      <td>50a63edde4b0451f155359d5</td>\n",
       "      <td>small</td>\n",
       "      <td>All</td>\n",
       "      <td>Day, Evening, Night, LateNight</td>\n",
       "    </tr>\n",
       "    <tr>\n",
       "      <th>8</th>\n",
       "      <td>The Mule #2</td>\n",
       "      <td>Lounge</td>\n",
       "      <td>Piazza Napoli 30/7</td>\n",
       "      <td>45.452847</td>\n",
       "      <td>9.151729</td>\n",
       "      <td>5831ee2688cfcc313b9871d8</td>\n",
       "      <td>small</td>\n",
       "      <td>dance, music, acting, magic,comedy</td>\n",
       "      <td>Evening, Night</td>\n",
       "    </tr>\n",
       "    <tr>\n",
       "      <th>9</th>\n",
       "      <td>Freesound Scuola di Musica</td>\n",
       "      <td>Music Venue</td>\n",
       "      <td>Via Washington 40</td>\n",
       "      <td>45.454724</td>\n",
       "      <td>9.152981</td>\n",
       "      <td>4f5a893fe4b0695cb957ca73</td>\n",
       "      <td>small</td>\n",
       "      <td>Musical Theatre, Music</td>\n",
       "      <td>Day, Evening, Night, LateNight</td>\n",
       "    </tr>\n",
       "  </tbody>\n",
       "</table>\n",
       "</div>"
      ],
      "text/plain": [
       "                                               NAME               CATEGORY  \\\n",
       "0                       Teatro Orione ora Ecoteatro                Theater   \n",
       "1                                        Red's cess           Concert Hall   \n",
       "2                  Sotterranei Oscuri di Casa Gozzo                 Lounge   \n",
       "3  Accademia Di Teatroterapia Non Chiamateci Attori                Theater   \n",
       "4                                la mia ora di yoga  General Entertainment   \n",
       "5                                          The Tune            Music Venue   \n",
       "6                                Teatro del buratto                Theater   \n",
       "7                                 Bea Expo Festival  General Entertainment   \n",
       "8                                       The Mule #2                 Lounge   \n",
       "9                        Freesound Scuola di Musica            Music Venue   \n",
       "\n",
       "                          ADDRESS        LAT       LNG  \\\n",
       "0                   Via Fezzan 11  45.459073  9.145781   \n",
       "1                             NaN  45.464245  9.147996   \n",
       "2          Via Giuseppe Frua 21/6  45.464475  9.147840   \n",
       "3  Via Giovanni Battista Moroni 8  45.465579  9.146489   \n",
       "4                             NaN  45.468349  9.148692   \n",
       "5                    Via Frascati  45.468979  9.145949   \n",
       "6             Via Mosè Bianchi 84  45.475672  9.145051   \n",
       "7            Spazio Eventiquattro  45.477550  9.145829   \n",
       "8              Piazza Napoli 30/7  45.452847  9.151729   \n",
       "9               Via Washington 40  45.454724  9.152981   \n",
       "\n",
       "                         ID  SCALE                               EVENT  \\\n",
       "0  4d41cf1fbd53f04d480a5115  large                                 All   \n",
       "1  4e3dde9745dd68e327403145  large                                 All   \n",
       "2  4df3070218a88611c6bb2255  small  dance, music, acting, magic,comedy   \n",
       "3  4dcd458b52b1f8915b78cc68  large                                 All   \n",
       "4  4f15acfae4b0960d02fe2b1d  small                                 All   \n",
       "5  4c92423d238c6dcb07e3c655  small              Musical Theatre, Music   \n",
       "6  4ebfddfc0e019a162ac92d67  large                                 All   \n",
       "7  50a63edde4b0451f155359d5  small                                 All   \n",
       "8  5831ee2688cfcc313b9871d8  small  dance, music, acting, magic,comedy   \n",
       "9  4f5a893fe4b0695cb957ca73  small              Musical Theatre, Music   \n",
       "\n",
       "                      TIME_OF_DAY  \n",
       "0                    Day, Evening  \n",
       "1                    Day, Evening  \n",
       "2                  Evening, Night  \n",
       "3                    Day, Evening  \n",
       "4  Day, Evening, Night, LateNight  \n",
       "5  Day, Evening, Night, LateNight  \n",
       "6                    Day, Evening  \n",
       "7  Day, Evening, Night, LateNight  \n",
       "8                  Evening, Night  \n",
       "9  Day, Evening, Night, LateNight  "
      ]
     },
     "execution_count": 142,
     "metadata": {},
     "output_type": "execute_result"
    }
   ],
   "source": [
    "scale_ = []\n",
    "time = []\n",
    "event = []\n",
    "\n",
    "for idx, row in uf.iterrows():\n",
    "    scale_.append(scale[row['CATEGORY']])\n",
    "    time.append(time_of_day[row['CATEGORY']])\n",
    "    event.append(event_types[row['CATEGORY']])\n",
    "    \n",
    "uf['SCALE'] = scale_\n",
    "uf['EVENT'] = event\n",
    "uf['TIME_OF_DAY'] = time\n",
    "\n",
    "uf.head(10)"
   ]
  },
  {
   "cell_type": "code",
   "execution_count": 143,
   "metadata": {},
   "outputs": [],
   "source": [
    "uf.to_csv('Complete.csv', index = False)"
   ]
  }
 ],
 "metadata": {
  "kernelspec": {
   "display_name": "Python 3",
   "language": "python",
   "name": "python3"
  },
  "language_info": {
   "codemirror_mode": {
    "name": "ipython",
    "version": 3
   },
   "file_extension": ".py",
   "mimetype": "text/x-python",
   "name": "python",
   "nbconvert_exporter": "python",
   "pygments_lexer": "ipython3",
   "version": "3.7.6"
  }
 },
 "nbformat": 4,
 "nbformat_minor": 4
}
